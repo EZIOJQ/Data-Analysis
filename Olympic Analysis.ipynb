{
 "cells": [
  {
   "cell_type": "markdown",
   "metadata": {
    "colab_type": "text",
    "id": "Pr9WBUQyZY4V"
   },
   "source": [
    "## Data Preparation: \n",
    "- https://www.kaggle.com/heesoo37/120-years-of-olympic-history-athletes-and-results\n",
    "- https://en.wikipedia.org/wiki/List_of_Olympic_Games_host_cities"
   ]
  },
  {
   "cell_type": "markdown",
   "metadata": {},
   "source": [
    "### Quick Overlook"
   ]
  },
  {
   "cell_type": "code",
   "execution_count": 4,
   "metadata": {
    "colab": {},
    "colab_type": "code",
    "id": "ttHwVC8ot5Ur"
   },
   "outputs": [],
   "source": [
    "import pandas as pd\n",
    "import numpy as np\n",
    "import seaborn as sns\n",
    "import matplotlib as plt\n",
    "df_athletes = pd.read_csv(\"data/athlete_events.csv\")\n",
    "df_regions = pd.read_csv(\"data/noc_regions.csv\")\n",
    "df_cities = pd.read_html(\"https://en.wikipedia.org/wiki/List_of_Olympic_Games_host_cities\", header = 0)[1]"
   ]
  },
  {
   "cell_type": "markdown",
   "metadata": {},
   "source": [
    "- There are missing values in athlete dataset and it also contains redundant data."
   ]
  },
  {
   "cell_type": "code",
   "execution_count": 5,
   "metadata": {},
   "outputs": [
    {
     "data": {
      "text/html": [
       "<div>\n",
       "<style scoped>\n",
       "    .dataframe tbody tr th:only-of-type {\n",
       "        vertical-align: middle;\n",
       "    }\n",
       "\n",
       "    .dataframe tbody tr th {\n",
       "        vertical-align: top;\n",
       "    }\n",
       "\n",
       "    .dataframe thead th {\n",
       "        text-align: right;\n",
       "    }\n",
       "</style>\n",
       "<table border=\"1\" class=\"dataframe\">\n",
       "  <thead>\n",
       "    <tr style=\"text-align: right;\">\n",
       "      <th></th>\n",
       "      <th>ID</th>\n",
       "      <th>Name</th>\n",
       "      <th>Sex</th>\n",
       "      <th>Age</th>\n",
       "      <th>Height</th>\n",
       "      <th>Weight</th>\n",
       "      <th>Team</th>\n",
       "      <th>NOC</th>\n",
       "      <th>Games</th>\n",
       "      <th>Year</th>\n",
       "      <th>Season</th>\n",
       "      <th>City</th>\n",
       "      <th>Sport</th>\n",
       "      <th>Event</th>\n",
       "      <th>Medal</th>\n",
       "    </tr>\n",
       "  </thead>\n",
       "  <tbody>\n",
       "    <tr>\n",
       "      <th>0</th>\n",
       "      <td>1</td>\n",
       "      <td>A Dijiang</td>\n",
       "      <td>M</td>\n",
       "      <td>24.0</td>\n",
       "      <td>180.0</td>\n",
       "      <td>80.0</td>\n",
       "      <td>China</td>\n",
       "      <td>CHN</td>\n",
       "      <td>1992 Summer</td>\n",
       "      <td>1992</td>\n",
       "      <td>Summer</td>\n",
       "      <td>Barcelona</td>\n",
       "      <td>Basketball</td>\n",
       "      <td>Basketball Men's Basketball</td>\n",
       "      <td>NaN</td>\n",
       "    </tr>\n",
       "    <tr>\n",
       "      <th>1</th>\n",
       "      <td>2</td>\n",
       "      <td>A Lamusi</td>\n",
       "      <td>M</td>\n",
       "      <td>23.0</td>\n",
       "      <td>170.0</td>\n",
       "      <td>60.0</td>\n",
       "      <td>China</td>\n",
       "      <td>CHN</td>\n",
       "      <td>2012 Summer</td>\n",
       "      <td>2012</td>\n",
       "      <td>Summer</td>\n",
       "      <td>London</td>\n",
       "      <td>Judo</td>\n",
       "      <td>Judo Men's Extra-Lightweight</td>\n",
       "      <td>NaN</td>\n",
       "    </tr>\n",
       "    <tr>\n",
       "      <th>2</th>\n",
       "      <td>3</td>\n",
       "      <td>Gunnar Nielsen Aaby</td>\n",
       "      <td>M</td>\n",
       "      <td>24.0</td>\n",
       "      <td>NaN</td>\n",
       "      <td>NaN</td>\n",
       "      <td>Denmark</td>\n",
       "      <td>DEN</td>\n",
       "      <td>1920 Summer</td>\n",
       "      <td>1920</td>\n",
       "      <td>Summer</td>\n",
       "      <td>Antwerpen</td>\n",
       "      <td>Football</td>\n",
       "      <td>Football Men's Football</td>\n",
       "      <td>NaN</td>\n",
       "    </tr>\n",
       "    <tr>\n",
       "      <th>3</th>\n",
       "      <td>4</td>\n",
       "      <td>Edgar Lindenau Aabye</td>\n",
       "      <td>M</td>\n",
       "      <td>34.0</td>\n",
       "      <td>NaN</td>\n",
       "      <td>NaN</td>\n",
       "      <td>Denmark/Sweden</td>\n",
       "      <td>DEN</td>\n",
       "      <td>1900 Summer</td>\n",
       "      <td>1900</td>\n",
       "      <td>Summer</td>\n",
       "      <td>Paris</td>\n",
       "      <td>Tug-Of-War</td>\n",
       "      <td>Tug-Of-War Men's Tug-Of-War</td>\n",
       "      <td>Gold</td>\n",
       "    </tr>\n",
       "    <tr>\n",
       "      <th>4</th>\n",
       "      <td>5</td>\n",
       "      <td>Christine Jacoba Aaftink</td>\n",
       "      <td>F</td>\n",
       "      <td>21.0</td>\n",
       "      <td>185.0</td>\n",
       "      <td>82.0</td>\n",
       "      <td>Netherlands</td>\n",
       "      <td>NED</td>\n",
       "      <td>1988 Winter</td>\n",
       "      <td>1988</td>\n",
       "      <td>Winter</td>\n",
       "      <td>Calgary</td>\n",
       "      <td>Speed Skating</td>\n",
       "      <td>Speed Skating Women's 500 metres</td>\n",
       "      <td>NaN</td>\n",
       "    </tr>\n",
       "  </tbody>\n",
       "</table>\n",
       "</div>"
      ],
      "text/plain": [
       "   ID                      Name Sex   Age  Height  Weight            Team  \\\n",
       "0   1                 A Dijiang   M  24.0   180.0    80.0           China   \n",
       "1   2                  A Lamusi   M  23.0   170.0    60.0           China   \n",
       "2   3       Gunnar Nielsen Aaby   M  24.0     NaN     NaN         Denmark   \n",
       "3   4      Edgar Lindenau Aabye   M  34.0     NaN     NaN  Denmark/Sweden   \n",
       "4   5  Christine Jacoba Aaftink   F  21.0   185.0    82.0     Netherlands   \n",
       "\n",
       "   NOC        Games  Year  Season       City          Sport  \\\n",
       "0  CHN  1992 Summer  1992  Summer  Barcelona     Basketball   \n",
       "1  CHN  2012 Summer  2012  Summer     London           Judo   \n",
       "2  DEN  1920 Summer  1920  Summer  Antwerpen       Football   \n",
       "3  DEN  1900 Summer  1900  Summer      Paris     Tug-Of-War   \n",
       "4  NED  1988 Winter  1988  Winter    Calgary  Speed Skating   \n",
       "\n",
       "                              Event Medal  \n",
       "0       Basketball Men's Basketball   NaN  \n",
       "1      Judo Men's Extra-Lightweight   NaN  \n",
       "2           Football Men's Football   NaN  \n",
       "3       Tug-Of-War Men's Tug-Of-War  Gold  \n",
       "4  Speed Skating Women's 500 metres   NaN  "
      ]
     },
     "execution_count": 5,
     "metadata": {},
     "output_type": "execute_result"
    }
   ],
   "source": [
    "df_athletes.head()"
   ]
  },
  {
   "cell_type": "code",
   "execution_count": 6,
   "metadata": {},
   "outputs": [
    {
     "name": "stdout",
     "output_type": "stream",
     "text": [
      "<class 'pandas.core.frame.DataFrame'>\n",
      "RangeIndex: 271116 entries, 0 to 271115\n",
      "Data columns (total 15 columns):\n",
      "ID        271116 non-null int64\n",
      "Name      271116 non-null object\n",
      "Sex       271116 non-null object\n",
      "Age       261642 non-null float64\n",
      "Height    210945 non-null float64\n",
      "Weight    208241 non-null float64\n",
      "Team      271116 non-null object\n",
      "NOC       271116 non-null object\n",
      "Games     271116 non-null object\n",
      "Year      271116 non-null int64\n",
      "Season    271116 non-null object\n",
      "City      271116 non-null object\n",
      "Sport     271116 non-null object\n",
      "Event     271116 non-null object\n",
      "Medal     39783 non-null object\n",
      "dtypes: float64(3), int64(2), object(10)\n",
      "memory usage: 31.0+ MB\n"
     ]
    }
   ],
   "source": [
    "df_athletes.info()"
   ]
  },
  {
   "cell_type": "markdown",
   "metadata": {},
   "source": [
    "### Data Cleansing"
   ]
  },
  {
   "cell_type": "code",
   "execution_count": 7,
   "metadata": {},
   "outputs": [],
   "source": [
    "for col in df_athletes.columns:\n",
    "    df_athletes[col] = df_athletes[col].astype('category')"
   ]
  },
  {
   "cell_type": "code",
   "execution_count": 8,
   "metadata": {},
   "outputs": [
    {
     "name": "stdout",
     "output_type": "stream",
     "text": [
      "<class 'pandas.core.frame.DataFrame'>\n",
      "RangeIndex: 271116 entries, 0 to 271115\n",
      "Data columns (total 15 columns):\n",
      "ID        271116 non-null category\n",
      "Name      271116 non-null category\n",
      "Sex       271116 non-null category\n",
      "Age       261642 non-null category\n",
      "Height    210945 non-null category\n",
      "Weight    208241 non-null category\n",
      "Team      271116 non-null category\n",
      "NOC       271116 non-null category\n",
      "Games     271116 non-null category\n",
      "Year      271116 non-null category\n",
      "Season    271116 non-null category\n",
      "City      271116 non-null category\n",
      "Sport     271116 non-null category\n",
      "Event     271116 non-null category\n",
      "Medal     39783 non-null category\n",
      "dtypes: category(15)\n",
      "memory usage: 18.6 MB\n"
     ]
    }
   ],
   "source": [
    "df_athletes.info()"
   ]
  },
  {
   "cell_type": "markdown",
   "metadata": {},
   "source": [
    "- After "
   ]
  },
  {
   "cell_type": "markdown",
   "metadata": {
    "colab_type": "text",
    "id": "tbmL9-kta0o4"
   },
   "source": [
    "### What is the overall ratio of female to male atheletes? "
   ]
  },
  {
   "cell_type": "markdown",
   "metadata": {
    "colab_type": "text",
    "id": "FD6-7-D-uWmX"
   },
   "source": [
    "- The overall ratio is 0.33. After removing the duplicate names of athletes, which means I remove the situation that one athlete has joined many events. I divide the number of male athletes from the female athletes, which represents the overall mutiples of male athletes than female athletes."
   ]
  },
  {
   "cell_type": "code",
   "execution_count": 9,
   "metadata": {
    "colab": {},
    "colab_type": "code",
    "id": "33LcHThyt5_N"
   },
   "outputs": [
    {
     "data": {
      "text/plain": [
       "0.334601250086674"
      ]
     },
     "execution_count": 9,
     "metadata": {},
     "output_type": "execute_result"
    }
   ],
   "source": [
    "athlete_mask = df_athletes.drop_duplicates(keep=\"first\" ,subset=\"Name\")\n",
    "len(athlete_mask[athlete_mask.Sex == \"F\"]) / len(athlete_mask[athlete_mask.Sex == \"M\"])"
   ]
  },
  {
   "cell_type": "markdown",
   "metadata": {
    "colab_type": "text",
    "id": "0u5VM5ksbCTm"
   },
   "source": [
    "###  Which athelete competed in most number of events? \n",
    "In which events did the athelete participate, and for what range of years? Which country did the athlete represent?"
   ]
  },
  {
   "cell_type": "code",
   "execution_count": 10,
   "metadata": {
    "colab": {},
    "colab_type": "code",
    "id": "JtI8ru2at6ZU"
   },
   "outputs": [
    {
     "data": {
      "text/plain": [
       "Robert Tait McKenzie        58\n",
       "Heikki Ilmari Savolainen    39\n",
       "Joseph \"Josy\" Stoffel       38\n",
       "Ioannis Theofilakis         36\n",
       "Takashi Ono                 33\n",
       "Name: Name, dtype: int64"
      ]
     },
     "execution_count": 10,
     "metadata": {},
     "output_type": "execute_result"
    }
   ],
   "source": [
    "df_athletes.Name.value_counts().head()"
   ]
  },
  {
   "cell_type": "markdown",
   "metadata": {},
   "source": [
    "- In df_athlete dataframe, I simply calculated the counts of athlete names."
   ]
  },
  {
   "cell_type": "code",
   "execution_count": 11,
   "metadata": {},
   "outputs": [
    {
     "data": {
      "text/plain": [
       "36    Canada\n",
       "Name: region, dtype: object"
      ]
     },
     "execution_count": 11,
     "metadata": {},
     "output_type": "execute_result"
    }
   ],
   "source": [
    "Most_num_athlete = df_athletes[df_athletes.Name == \"Robert Tait McKenzie\"]\n",
    "Most_num_athlete.NOC.head(1)\n",
    "df_regions[df_regions.NOC == \"CAN\"].region"
   ]
  },
  {
   "cell_type": "markdown",
   "metadata": {},
   "source": [
    "- To find the country, I searched the whole dataset with the name I have found above."
   ]
  },
  {
   "cell_type": "code",
   "execution_count": 12,
   "metadata": {},
   "outputs": [
    {
     "data": {
      "text/plain": [
       "154798                   Art Competitions Mixed Sculpturing\n",
       "154799          Art Competitions Mixed Sculpturing, Statues\n",
       "154806    Art Competitions Mixed Sculpturing, Medals And...\n",
       "154807    Art Competitions Mixed Sculpturing, Unknown Event\n",
       "154850           Art Competitions Mixed Sculpturing, Medals\n",
       "Name: Event, dtype: category\n",
       "Categories (765, object): [Aeronautics Mixed Aeronautics, Alpine Skiing Men's Combined, Alpine Skiing Men's Downhill, Alpine Skiing Men's Giant Slalom, ..., Wrestling Women's Heavyweight, Freestyle, Wrestling Women's Light-Heavyweight, Freestyle, Wrestling Women's Lightweight, Freestyle, Wrestling Women's Middleweight, Freestyle]"
      ]
     },
     "execution_count": 12,
     "metadata": {},
     "output_type": "execute_result"
    }
   ],
   "source": [
    "Most_num_athlete.Event.drop_duplicates()"
   ]
  },
  {
   "cell_type": "code",
   "execution_count": 13,
   "metadata": {},
   "outputs": [
    {
     "data": {
      "text/plain": [
       "154798    1912\n",
       "154799    1928\n",
       "154806    1932\n",
       "154850    1936\n",
       "154855    1948\n",
       "Name: Year, dtype: category\n",
       "Categories (35, int64): [1896, 1900, 1904, 1906, ..., 2010, 2012, 2014, 2016]"
      ]
     },
     "execution_count": 13,
     "metadata": {},
     "output_type": "execute_result"
    }
   ],
   "source": [
    "Most_num_athlete.Year.drop_duplicates()"
   ]
  },
  {
   "cell_type": "markdown",
   "metadata": {
    "colab_type": "text",
    "id": "CCuxztg3uYPQ"
   },
   "source": [
    "- Athlete who completed most number of games is Robert Tait McKenzie, he is from Canada, and he is active from 1912 - 1928. The types of his events include Medals, Status, and many unknown events."
   ]
  },
  {
   "cell_type": "markdown",
   "metadata": {
    "colab_type": "text",
    "id": "2wH5ikUcbb16"
   },
   "source": [
    "###  Which sport has the highest median athlete age? "
   ]
  },
  {
   "cell_type": "code",
   "execution_count": 83,
   "metadata": {},
   "outputs": [
    {
     "name": "stderr",
     "output_type": "stream",
     "text": [
      "/Users/chenjieqing/anaconda3/lib/python3.7/site-packages/pandas/core/generic.py:4405: SettingWithCopyWarning: \n",
      "A value is trying to be set on a copy of a slice from a DataFrame.\n",
      "Try using .loc[row_indexer,col_indexer] = value instead\n",
      "\n",
      "See the caveats in the documentation: http://pandas.pydata.org/pandas-docs/stable/indexing.html#indexing-view-versus-copy\n",
      "  self[name] = value\n"
     ]
    }
   ],
   "source": [
    "df_athletes_mask = df_athletes.dropna(subset = ['Age'])\n",
    "df_athletes_mask.Age = df_athletes_mask.Age.astype('int')"
   ]
  },
  {
   "cell_type": "code",
   "execution_count": 84,
   "metadata": {
    "colab": {},
    "colab_type": "code",
    "id": "GneWWgFVt62N"
   },
   "outputs": [
    {
     "data": {
      "text/plain": [
       "Sport\n",
       "Roque               59.0\n",
       "Art Competitions    45.0\n",
       "Alpinism            38.0\n",
       "Polo                35.0\n",
       "Shooting            33.0\n",
       "Name: Age, dtype: float64"
      ]
     },
     "execution_count": 84,
     "metadata": {},
     "output_type": "execute_result"
    }
   ],
   "source": [
    "df_athletes_mask.dropna(subset = ['Age']).groupby(\"Sport\").Age.median().sort_values(ascending = False).head()"
   ]
  },
  {
   "cell_type": "markdown",
   "metadata": {
    "colab_type": "text",
    "id": "WlWYu2_5uY7K"
   },
   "source": [
    "- I grouped athletes dataset by 'Sport', and calculated the median value of age for those groups. According to the result, sport which has the highest athlete age is Roque."
   ]
  },
  {
   "cell_type": "markdown",
   "metadata": {
    "colab_type": "text",
    "id": "wGoiQk8XbqHw"
   },
   "source": [
    "###  In which events has the Netherlands won the most medals?"
   ]
  },
  {
   "cell_type": "code",
   "execution_count": 85,
   "metadata": {
    "colab": {},
    "colab_type": "code",
    "id": "U5jIdE3_t7YA"
   },
   "outputs": [
    {
     "data": {
      "text/plain": [
       "Hockey Women's Hockey                              128\n",
       "Hockey Men's Hockey                                127\n",
       "Swimming Women's 4 x 100 metres Freestyle Relay     55\n",
       "Rowing Women's Coxed Eights                         45\n",
       "Football Men's Football                             42\n",
       "Name: Event, dtype: int64"
      ]
     },
     "execution_count": 85,
     "metadata": {},
     "output_type": "execute_result"
    }
   ],
   "source": [
    "Noc_N = df_regions[df_regions.region == 'Netherlands'].NOC.values[0]\n",
    "medal_mask = df_athletes.dropna(subset = [\"Medal\"])\n",
    "medal_mask[medal_mask.NOC == Noc_N].Event.value_counts().head()"
   ]
  },
  {
   "cell_type": "markdown",
   "metadata": {
    "colab_type": "text",
    "id": "yN5zlizIuZa8"
   },
   "source": [
    "- Hockey Women's Hockey, in which Netherlands has won 128 medals. First I chose the data with region = Netherlands, then I drop the empty values, at last, I calcluated the medals of different events."
   ]
  },
  {
   "cell_type": "markdown",
   "metadata": {
    "colab_type": "text",
    "id": "lwumWcqTcMCs"
   },
   "source": [
    "### Which countries have more female medalists than male medalists?"
   ]
  },
  {
   "cell_type": "markdown",
   "metadata": {
    "colab_type": "text",
    "id": "nau57Y2ZuZ6Y"
   },
   "source": [
    "- Grouped by sex, I chose to use the 'top' module to repersent the result, as the question is only asking which country has more female medalists than male medalists. The 'top' repersents the one which has more counts. Thus, those countries are Burundi, Belarus, Bahrain, Costa Rica, China, Kosovo, Montenegro, Mozambique, Peru, North Korea, Sri Lanka, Ukraine, Zimbabwe"
   ]
  },
  {
   "cell_type": "code",
   "execution_count": 86,
   "metadata": {
    "colab": {},
    "colab_type": "code",
    "id": "OMnjkk4St77B"
   },
   "outputs": [
    {
     "name": "stdout",
     "output_type": "stream",
     "text": [
      "[BLR, BRN, CHN, CRC, KOS, ..., MOZ, PER, SGP, UKR, ZIM]\n",
      "Length: 11\n",
      "Categories (230, object): [AFG, AHO, ALB, ALG, ..., YMD, YUG, ZAM, ZIM]\n"
     ]
    },
    {
     "data": {
      "text/plain": [
       "[25    Belarus\n",
       " Name: region, dtype: object, 30    Bahrain\n",
       " Name: region, dtype: object, 41    China\n",
       " Name: region, dtype: object, 49    Costa Rica\n",
       " Name: region, dtype: object, 110    Kosovo\n",
       " Name: region, dtype: object, 136    Montenegro\n",
       " Name: region, dtype: object, 138    Mozambique\n",
       " Name: region, dtype: object, 157    Peru\n",
       " Name: region, dtype: object, Series([], Name: region, dtype: object), 212    Ukraine\n",
       " Name: region, dtype: object, 229    Zimbabwe\n",
       " Name: region, dtype: object]"
      ]
     },
     "execution_count": 86,
     "metadata": {},
     "output_type": "execute_result"
    }
   ],
   "source": [
    "medalist = medal_mask.drop_duplicates(subset = \"Name\", keep = \"first\").groupby(\"NOC\")\n",
    "countries = medalist.Sex.describe()[medalist.Sex.describe().top == \"F\"].index.values\n",
    "print(countries)\n",
    "newlst = []\n",
    "for noc in countries:\n",
    "    newlst.append( df_regions[df_regions.NOC == noc].region)\n",
    "newlst"
   ]
  },
  {
   "cell_type": "markdown",
   "metadata": {
    "colab_type": "text",
    "id": "7n5ybXFQcR-g"
   },
   "source": [
    "### Which country won the most medal points in each of the 2016 Summer Olympics?"
   ]
  },
  {
   "cell_type": "code",
   "execution_count": 87,
   "metadata": {
    "colab": {},
    "colab_type": "code",
    "id": "FoWTh2ekt8Wp"
   },
   "outputs": [
    {
     "name": "stderr",
     "output_type": "stream",
     "text": [
      "/Users/chenjieqing/anaconda3/lib/python3.7/site-packages/ipykernel_launcher.py:3: SettingWithCopyWarning: \n",
      "A value is trying to be set on a copy of a slice from a DataFrame.\n",
      "Try using .loc[row_indexer,col_indexer] = value instead\n",
      "\n",
      "See the caveats in the documentation: http://pandas.pydata.org/pandas-docs/stable/indexing.html#indexing-view-versus-copy\n",
      "  This is separate from the ipykernel package so we can avoid doing imports until\n",
      "/Users/chenjieqing/anaconda3/lib/python3.7/site-packages/pandas/core/indexing.py:543: SettingWithCopyWarning: \n",
      "A value is trying to be set on a copy of a slice from a DataFrame.\n",
      "Try using .loc[row_indexer,col_indexer] = value instead\n",
      "\n",
      "See the caveats in the documentation: http://pandas.pydata.org/pandas-docs/stable/indexing.html#indexing-view-versus-copy\n",
      "  self.obj[item] = s\n"
     ]
    },
    {
     "data": {
      "text/plain": [
       "NOC\n",
       "USA    250\n",
       "GBR    144\n",
       "CHN    140\n",
       "RUS    111\n",
       "GER     86\n",
       "Name: Score, dtype: int64"
      ]
     },
     "execution_count": 87,
     "metadata": {},
     "output_type": "execute_result"
    }
   ],
   "source": [
    "score_medal_undropped = medal_mask[(medal_mask.Year == 2016) & (medal_mask.Season == \"Summer\")]\n",
    "score_medal = score_medal_undropped.drop_duplicates(subset = ['Event', 'NOC','Medal'], keep = 'first')\n",
    "score_medal[\"Score\"] = 0\n",
    "score_medal.loc[score_medal.Medal == \"Gold\", \"Score\"] = 3\n",
    "score_medal.loc[score_medal.Medal == \"Bronze\", \"Score\"] = 1\n",
    "score_medal.loc[score_medal.Medal == \"Silver\", \"Score\"] = 2\n",
    "score_medal.groupby('NOC').Score.sum().sort_values(ascending = False).head()"
   ]
  },
  {
   "cell_type": "markdown",
   "metadata": {
    "colab_type": "text",
    "id": "lGrRhr22uan4"
   },
   "source": [
    "- As the result shown above, the first column represents the country, and the second column repersents the total points that country has got. Thus, USA has won the most points in each of the 2016 Summer Olympics. Adding a new column which represents the overall score of one country, the task becomes to find the exact number of three types of medals of each country. I find that there are many duplicats in the dataframe, like each member of one football team is recorded Individually. So I dropped those duplicate by using drop_duplicate function. And calculate the final points."
   ]
  },
  {
   "cell_type": "markdown",
   "metadata": {
    "colab_type": "text",
    "id": "l8k4nqgfeFJb"
   },
   "source": [
    "### For each year in which games were held, what proportion of gold medals did the host country win?  "
   ]
  },
  {
   "cell_type": "markdown",
   "metadata": {},
   "source": [
    "As the df_athlete dataframe has already contained the city name of the host country, our job is to find the country name given the city name, then find the NOC of this country. After that, we will have chance to find the total number of gold medals of the host country."
   ]
  },
  {
   "cell_type": "code",
   "execution_count": 88,
   "metadata": {
    "scrolled": true
   },
   "outputs": [
    {
     "name": "stderr",
     "output_type": "stream",
     "text": [
      "/Users/chenjieqing/anaconda3/lib/python3.7/site-packages/pandas/core/generic.py:4405: SettingWithCopyWarning: \n",
      "A value is trying to be set on a copy of a slice from a DataFrame.\n",
      "Try using .loc[row_indexer,col_indexer] = value instead\n",
      "\n",
      "See the caveats in the documentation: http://pandas.pydata.org/pandas-docs/stable/indexing.html#indexing-view-versus-copy\n",
      "  self[name] = value\n",
      "/Users/chenjieqing/anaconda3/lib/python3.7/site-packages/ipykernel_launcher.py:3: SettingWithCopyWarning: \n",
      "A value is trying to be set on a copy of a slice from a DataFrame\n",
      "\n",
      "See the caveats in the documentation: http://pandas.pydata.org/pandas-docs/stable/indexing.html#indexing-view-versus-copy\n",
      "  This is separate from the ipykernel package so we can avoid doing imports until\n"
     ]
    },
    {
     "data": {
      "text/html": [
       "<div>\n",
       "<style scoped>\n",
       "    .dataframe tbody tr th:only-of-type {\n",
       "        vertical-align: middle;\n",
       "    }\n",
       "\n",
       "    .dataframe tbody tr th {\n",
       "        vertical-align: top;\n",
       "    }\n",
       "\n",
       "    .dataframe thead th {\n",
       "        text-align: right;\n",
       "    }\n",
       "</style>\n",
       "<table border=\"1\" class=\"dataframe\">\n",
       "  <thead>\n",
       "    <tr style=\"text-align: right;\">\n",
       "      <th></th>\n",
       "      <th>City</th>\n",
       "      <th>Country</th>\n",
       "    </tr>\n",
       "  </thead>\n",
       "  <tbody>\n",
       "    <tr>\n",
       "      <th>0</th>\n",
       "      <td>Athens</td>\n",
       "      <td>Greece</td>\n",
       "    </tr>\n",
       "    <tr>\n",
       "      <th>1</th>\n",
       "      <td>Paris</td>\n",
       "      <td>France</td>\n",
       "    </tr>\n",
       "    <tr>\n",
       "      <th>2</th>\n",
       "      <td>St. Louis</td>\n",
       "      <td>United States</td>\n",
       "    </tr>\n",
       "  </tbody>\n",
       "</table>\n",
       "</div>"
      ],
      "text/plain": [
       "        City        Country\n",
       "0     Athens         Greece\n",
       "1      Paris         France\n",
       "2  St. Louis  United States"
      ]
     },
     "execution_count": 88,
     "metadata": {},
     "output_type": "execute_result"
    }
   ],
   "source": [
    "df_cities_mask = df_cities[['City', 'Country']]\n",
    "df_cities_mask.City = df_cities_mask.City.str.replace('\\[.\\]','')\n",
    "df_cities_mask.drop_duplicates(subset = 'City',inplace = True)\n",
    "df_cities_mask.head(3)"
   ]
  },
  {
   "cell_type": "markdown",
   "metadata": {},
   "source": [
    "- First, to find the country name given the city name, we will need df_cities dataframe. In this dataframe, I have found that because of the citation from wikipedia, some cities' names have an unexpected citation mark, like \"St. Louis[a]\", \"London[c]\". So I decide to use regular expression to find those unexpected marks, and remove them from this dataframe."
   ]
  },
  {
   "cell_type": "code",
   "execution_count": 89,
   "metadata": {},
   "outputs": [
    {
     "data": {
      "text/html": [
       "<div>\n",
       "<style scoped>\n",
       "    .dataframe tbody tr th:only-of-type {\n",
       "        vertical-align: middle;\n",
       "    }\n",
       "\n",
       "    .dataframe tbody tr th {\n",
       "        vertical-align: top;\n",
       "    }\n",
       "\n",
       "    .dataframe thead th {\n",
       "        text-align: right;\n",
       "    }\n",
       "</style>\n",
       "<table border=\"1\" class=\"dataframe\">\n",
       "  <thead>\n",
       "    <tr style=\"text-align: right;\">\n",
       "      <th></th>\n",
       "      <th>ID</th>\n",
       "      <th>Name</th>\n",
       "      <th>Sex</th>\n",
       "      <th>Age</th>\n",
       "      <th>Height</th>\n",
       "      <th>Weight</th>\n",
       "      <th>Team</th>\n",
       "      <th>NOC</th>\n",
       "      <th>Games</th>\n",
       "      <th>Year</th>\n",
       "      <th>Season</th>\n",
       "      <th>City</th>\n",
       "      <th>Sport</th>\n",
       "      <th>Event</th>\n",
       "      <th>Medal</th>\n",
       "      <th>Country</th>\n",
       "    </tr>\n",
       "  </thead>\n",
       "  <tbody>\n",
       "    <tr>\n",
       "      <th>0</th>\n",
       "      <td>4</td>\n",
       "      <td>Edgar Lindenau Aabye</td>\n",
       "      <td>M</td>\n",
       "      <td>34.0</td>\n",
       "      <td>NaN</td>\n",
       "      <td>NaN</td>\n",
       "      <td>Denmark/Sweden</td>\n",
       "      <td>DEN</td>\n",
       "      <td>1900 Summer</td>\n",
       "      <td>1900</td>\n",
       "      <td>Summer</td>\n",
       "      <td>Paris</td>\n",
       "      <td>Tug-Of-War</td>\n",
       "      <td>Tug-Of-War Men's Tug-Of-War</td>\n",
       "      <td>Gold</td>\n",
       "      <td>France</td>\n",
       "    </tr>\n",
       "    <tr>\n",
       "      <th>1</th>\n",
       "      <td>17</td>\n",
       "      <td>Paavo Johannes Aaltonen</td>\n",
       "      <td>M</td>\n",
       "      <td>28.0</td>\n",
       "      <td>175.0</td>\n",
       "      <td>64.0</td>\n",
       "      <td>Finland</td>\n",
       "      <td>FIN</td>\n",
       "      <td>1948 Summer</td>\n",
       "      <td>1948</td>\n",
       "      <td>Summer</td>\n",
       "      <td>London</td>\n",
       "      <td>Gymnastics</td>\n",
       "      <td>Gymnastics Men's Team All-Around</td>\n",
       "      <td>Gold</td>\n",
       "      <td>United Kingdom</td>\n",
       "    </tr>\n",
       "    <tr>\n",
       "      <th>2</th>\n",
       "      <td>17</td>\n",
       "      <td>Paavo Johannes Aaltonen</td>\n",
       "      <td>M</td>\n",
       "      <td>28.0</td>\n",
       "      <td>175.0</td>\n",
       "      <td>64.0</td>\n",
       "      <td>Finland</td>\n",
       "      <td>FIN</td>\n",
       "      <td>1948 Summer</td>\n",
       "      <td>1948</td>\n",
       "      <td>Summer</td>\n",
       "      <td>London</td>\n",
       "      <td>Gymnastics</td>\n",
       "      <td>Gymnastics Men's Horse Vault</td>\n",
       "      <td>Gold</td>\n",
       "      <td>United Kingdom</td>\n",
       "    </tr>\n",
       "  </tbody>\n",
       "</table>\n",
       "</div>"
      ],
      "text/plain": [
       "   ID                     Name Sex   Age Height Weight            Team  NOC  \\\n",
       "0   4     Edgar Lindenau Aabye   M  34.0    NaN    NaN  Denmark/Sweden  DEN   \n",
       "1  17  Paavo Johannes Aaltonen   M  28.0  175.0   64.0         Finland  FIN   \n",
       "2  17  Paavo Johannes Aaltonen   M  28.0  175.0   64.0         Finland  FIN   \n",
       "\n",
       "         Games  Year  Season    City       Sport  \\\n",
       "0  1900 Summer  1900  Summer   Paris  Tug-Of-War   \n",
       "1  1948 Summer  1948  Summer  London  Gymnastics   \n",
       "2  1948 Summer  1948  Summer  London  Gymnastics   \n",
       "\n",
       "                              Event Medal         Country  \n",
       "0       Tug-Of-War Men's Tug-Of-War  Gold          France  \n",
       "1  Gymnastics Men's Team All-Around  Gold  United Kingdom  \n",
       "2      Gymnastics Men's Horse Vault  Gold  United Kingdom  "
      ]
     },
     "execution_count": 89,
     "metadata": {},
     "output_type": "execute_result"
    }
   ],
   "source": [
    "temp_df = medal_mask.drop_duplicates(subset = ['Event', 'NOC'], keep = 'first')\n",
    "df_all_games = temp_df[temp_df.Medal == \"Gold\"]\n",
    "add_country_medalist = pd.merge(df_all_games, df_cities_mask, how = \"left\",  on = 'City' )\n",
    "add_country_medalist.head(3)"
   ]
  },
  {
   "cell_type": "markdown",
   "metadata": {},
   "source": [
    "- Second, we need to find the country name in athlete dataframe using the cities mask dataframe we have cleaned above. So I choose to merge these two dataframe based on City."
   ]
  },
  {
   "cell_type": "code",
   "execution_count": 90,
   "metadata": {},
   "outputs": [
    {
     "name": "stdout",
     "output_type": "stream",
     "text": [
      "['Melbourne' 'Moskva' 'Roma' 'Athina' 'Antwerpen' 'Torino' 'Sankt Moritz']\n"
     ]
    }
   ],
   "source": [
    "na_cites_lst = add_country_medalist[add_country_medalist.Country.isna()].City.unique()\n",
    "print(na_cites_lst)\n",
    "\n",
    "def remove_na_cities(City_lst):\n",
    "    correct_name = {\"Moskva\":\"Moscow\",\"Roma\":\"Rome\", \"Torino\":\"Turin\", \"Melbourne\":\"MelbourneStockholm\"\n",
    "                      , \"Athina\":\"Athens\",  \"Sankt Moritz\":\"St. Moritz\", \"Antwerpen\": 'Antwerp'}\n",
    "    for i  in range(len(City_lst)):\n",
    "        if City_lst[i] in correct_name:\n",
    "            City_lst[i] = correct_name[City_lst[i]]\n",
    "    return City_lst\n",
    "\n",
    "add_country_medalist.City = remove_na_cities(list(add_country_medalist.City))"
   ]
  },
  {
   "cell_type": "code",
   "execution_count": 91,
   "metadata": {},
   "outputs": [
    {
     "data": {
      "text/html": [
       "<div>\n",
       "<style scoped>\n",
       "    .dataframe tbody tr th:only-of-type {\n",
       "        vertical-align: middle;\n",
       "    }\n",
       "\n",
       "    .dataframe tbody tr th {\n",
       "        vertical-align: top;\n",
       "    }\n",
       "\n",
       "    .dataframe thead th {\n",
       "        text-align: right;\n",
       "    }\n",
       "</style>\n",
       "<table border=\"1\" class=\"dataframe\">\n",
       "  <thead>\n",
       "    <tr style=\"text-align: right;\">\n",
       "      <th></th>\n",
       "      <th>ID</th>\n",
       "      <th>Name</th>\n",
       "      <th>Sex</th>\n",
       "      <th>Age</th>\n",
       "      <th>Height</th>\n",
       "      <th>Weight</th>\n",
       "      <th>Team</th>\n",
       "      <th>NOC</th>\n",
       "      <th>Games</th>\n",
       "      <th>Year</th>\n",
       "      <th>Season</th>\n",
       "      <th>City</th>\n",
       "      <th>Sport</th>\n",
       "      <th>Event</th>\n",
       "      <th>Medal</th>\n",
       "      <th>Country_x</th>\n",
       "      <th>Country_y</th>\n",
       "    </tr>\n",
       "  </thead>\n",
       "  <tbody>\n",
       "    <tr>\n",
       "      <th>0</th>\n",
       "      <td>4</td>\n",
       "      <td>Edgar Lindenau Aabye</td>\n",
       "      <td>M</td>\n",
       "      <td>34.0</td>\n",
       "      <td>NaN</td>\n",
       "      <td>NaN</td>\n",
       "      <td>Denmark/Sweden</td>\n",
       "      <td>DEN</td>\n",
       "      <td>1900 Summer</td>\n",
       "      <td>1900</td>\n",
       "      <td>Summer</td>\n",
       "      <td>Paris</td>\n",
       "      <td>Tug-Of-War</td>\n",
       "      <td>Tug-Of-War Men's Tug-Of-War</td>\n",
       "      <td>Gold</td>\n",
       "      <td>France</td>\n",
       "      <td>France</td>\n",
       "    </tr>\n",
       "    <tr>\n",
       "      <th>1</th>\n",
       "      <td>17</td>\n",
       "      <td>Paavo Johannes Aaltonen</td>\n",
       "      <td>M</td>\n",
       "      <td>28.0</td>\n",
       "      <td>175.0</td>\n",
       "      <td>64.0</td>\n",
       "      <td>Finland</td>\n",
       "      <td>FIN</td>\n",
       "      <td>1948 Summer</td>\n",
       "      <td>1948</td>\n",
       "      <td>Summer</td>\n",
       "      <td>London</td>\n",
       "      <td>Gymnastics</td>\n",
       "      <td>Gymnastics Men's Team All-Around</td>\n",
       "      <td>Gold</td>\n",
       "      <td>United Kingdom</td>\n",
       "      <td>United Kingdom</td>\n",
       "    </tr>\n",
       "    <tr>\n",
       "      <th>2</th>\n",
       "      <td>17</td>\n",
       "      <td>Paavo Johannes Aaltonen</td>\n",
       "      <td>M</td>\n",
       "      <td>28.0</td>\n",
       "      <td>175.0</td>\n",
       "      <td>64.0</td>\n",
       "      <td>Finland</td>\n",
       "      <td>FIN</td>\n",
       "      <td>1948 Summer</td>\n",
       "      <td>1948</td>\n",
       "      <td>Summer</td>\n",
       "      <td>London</td>\n",
       "      <td>Gymnastics</td>\n",
       "      <td>Gymnastics Men's Horse Vault</td>\n",
       "      <td>Gold</td>\n",
       "      <td>United Kingdom</td>\n",
       "      <td>United Kingdom</td>\n",
       "    </tr>\n",
       "  </tbody>\n",
       "</table>\n",
       "</div>"
      ],
      "text/plain": [
       "   ID                     Name Sex   Age Height Weight            Team  NOC  \\\n",
       "0   4     Edgar Lindenau Aabye   M  34.0    NaN    NaN  Denmark/Sweden  DEN   \n",
       "1  17  Paavo Johannes Aaltonen   M  28.0  175.0   64.0         Finland  FIN   \n",
       "2  17  Paavo Johannes Aaltonen   M  28.0  175.0   64.0         Finland  FIN   \n",
       "\n",
       "         Games  Year  Season    City       Sport  \\\n",
       "0  1900 Summer  1900  Summer   Paris  Tug-Of-War   \n",
       "1  1948 Summer  1948  Summer  London  Gymnastics   \n",
       "2  1948 Summer  1948  Summer  London  Gymnastics   \n",
       "\n",
       "                              Event Medal       Country_x       Country_y  \n",
       "0       Tug-Of-War Men's Tug-Of-War  Gold          France          France  \n",
       "1  Gymnastics Men's Team All-Around  Gold  United Kingdom  United Kingdom  \n",
       "2      Gymnastics Men's Horse Vault  Gold  United Kingdom  United Kingdom  "
      ]
     },
     "execution_count": 91,
     "metadata": {},
     "output_type": "execute_result"
    }
   ],
   "source": [
    "add_country_medalist_cleadned = pd.merge(add_country_medalist, df_cities_mask, how = \"left\",  on = 'City' )\n",
    "add_country_medalist_cleadned.head(3)"
   ]
  },
  {
   "cell_type": "markdown",
   "metadata": {},
   "source": [
    "- Then I found that some cities didn't match with a country, which contained NA in the Country column. So I decided to find which countries those cities belong to and assign them a country name. Here, I implemented a function called remove_na_cities. As you can see in the eighth row, 'Melbourne' has been changed to 'MelbourneStockholm', and also the country name is correctly assigned."
   ]
  },
  {
   "cell_type": "code",
   "execution_count": 92,
   "metadata": {
    "scrolled": true
   },
   "outputs": [],
   "source": [
    "add_country_medalist_cleadned.drop(columns = ['Country_x', 'ID'], inplace = True)"
   ]
  },
  {
   "cell_type": "code",
   "execution_count": 93,
   "metadata": {},
   "outputs": [
    {
     "data": {
      "text/html": [
       "<div>\n",
       "<style scoped>\n",
       "    .dataframe tbody tr th:only-of-type {\n",
       "        vertical-align: middle;\n",
       "    }\n",
       "\n",
       "    .dataframe tbody tr th {\n",
       "        vertical-align: top;\n",
       "    }\n",
       "\n",
       "    .dataframe thead th {\n",
       "        text-align: right;\n",
       "    }\n",
       "</style>\n",
       "<table border=\"1\" class=\"dataframe\">\n",
       "  <thead>\n",
       "    <tr style=\"text-align: right;\">\n",
       "      <th></th>\n",
       "      <th>Name</th>\n",
       "      <th>Sex</th>\n",
       "      <th>Age</th>\n",
       "      <th>Height</th>\n",
       "      <th>Weight</th>\n",
       "      <th>Team</th>\n",
       "      <th>NOC</th>\n",
       "      <th>Games</th>\n",
       "      <th>Year</th>\n",
       "      <th>Season</th>\n",
       "      <th>Host_City</th>\n",
       "      <th>Sport</th>\n",
       "      <th>Event</th>\n",
       "      <th>Medal</th>\n",
       "      <th>Host_Country</th>\n",
       "    </tr>\n",
       "  </thead>\n",
       "  <tbody>\n",
       "    <tr>\n",
       "      <th>0</th>\n",
       "      <td>Edgar Lindenau Aabye</td>\n",
       "      <td>M</td>\n",
       "      <td>34.0</td>\n",
       "      <td>NaN</td>\n",
       "      <td>NaN</td>\n",
       "      <td>Denmark/Sweden</td>\n",
       "      <td>DEN</td>\n",
       "      <td>1900 Summer</td>\n",
       "      <td>1900</td>\n",
       "      <td>Summer</td>\n",
       "      <td>Paris</td>\n",
       "      <td>Tug-Of-War</td>\n",
       "      <td>Tug-Of-War Men's Tug-Of-War</td>\n",
       "      <td>Gold</td>\n",
       "      <td>France</td>\n",
       "    </tr>\n",
       "    <tr>\n",
       "      <th>1</th>\n",
       "      <td>Paavo Johannes Aaltonen</td>\n",
       "      <td>M</td>\n",
       "      <td>28.0</td>\n",
       "      <td>175.0</td>\n",
       "      <td>64.0</td>\n",
       "      <td>Finland</td>\n",
       "      <td>FIN</td>\n",
       "      <td>1948 Summer</td>\n",
       "      <td>1948</td>\n",
       "      <td>Summer</td>\n",
       "      <td>London</td>\n",
       "      <td>Gymnastics</td>\n",
       "      <td>Gymnastics Men's Team All-Around</td>\n",
       "      <td>Gold</td>\n",
       "      <td>United Kingdom</td>\n",
       "    </tr>\n",
       "    <tr>\n",
       "      <th>2</th>\n",
       "      <td>Paavo Johannes Aaltonen</td>\n",
       "      <td>M</td>\n",
       "      <td>28.0</td>\n",
       "      <td>175.0</td>\n",
       "      <td>64.0</td>\n",
       "      <td>Finland</td>\n",
       "      <td>FIN</td>\n",
       "      <td>1948 Summer</td>\n",
       "      <td>1948</td>\n",
       "      <td>Summer</td>\n",
       "      <td>London</td>\n",
       "      <td>Gymnastics</td>\n",
       "      <td>Gymnastics Men's Horse Vault</td>\n",
       "      <td>Gold</td>\n",
       "      <td>United Kingdom</td>\n",
       "    </tr>\n",
       "  </tbody>\n",
       "</table>\n",
       "</div>"
      ],
      "text/plain": [
       "                      Name Sex   Age Height Weight            Team  NOC  \\\n",
       "0     Edgar Lindenau Aabye   M  34.0    NaN    NaN  Denmark/Sweden  DEN   \n",
       "1  Paavo Johannes Aaltonen   M  28.0  175.0   64.0         Finland  FIN   \n",
       "2  Paavo Johannes Aaltonen   M  28.0  175.0   64.0         Finland  FIN   \n",
       "\n",
       "         Games  Year  Season Host_City       Sport  \\\n",
       "0  1900 Summer  1900  Summer     Paris  Tug-Of-War   \n",
       "1  1948 Summer  1948  Summer    London  Gymnastics   \n",
       "2  1948 Summer  1948  Summer    London  Gymnastics   \n",
       "\n",
       "                              Event Medal    Host_Country  \n",
       "0       Tug-Of-War Men's Tug-Of-War  Gold          France  \n",
       "1  Gymnastics Men's Team All-Around  Gold  United Kingdom  \n",
       "2      Gymnastics Men's Horse Vault  Gold  United Kingdom  "
      ]
     },
     "execution_count": 93,
     "metadata": {},
     "output_type": "execute_result"
    }
   ],
   "source": [
    "add_country_medalist_cleadned.rename(columns = {'Country_y':'Host_Country', 'City': 'Host_City'}, inplace = True)\n",
    "add_country_medalist_cleadned.head(3)"
   ]
  },
  {
   "cell_type": "markdown",
   "metadata": {},
   "source": [
    "- Rename the new column.\n",
    "- Third, I need to find the NOC of those countries. But when I dig into the dataframe, I find that there are also many NA in NOC column. The reason is that in region dataframe, for example, 'United Kingdom' is called 'UK', and 'United States' is called 'USA'. To solve that problem, I decide to clean the dataframe by using columns 'Team' and 'NOC_x' as a new reference of NOC.- "
   ]
  },
  {
   "cell_type": "code",
   "execution_count": 94,
   "metadata": {},
   "outputs": [],
   "source": [
    "temp1 = add_country_medalist_cleadned[['Team', 'NOC']].drop_duplicates(subset = 'NOC')"
   ]
  },
  {
   "cell_type": "markdown",
   "metadata": {},
   "source": [
    "- There are also some outliers in this case"
   ]
  },
  {
   "cell_type": "code",
   "execution_count": 159,
   "metadata": {},
   "outputs": [
    {
     "data": {
      "text/plain": [
       "array(['United Kingdom', 'Australia\\xa0Sweden', 'Greece', 'Switzerland',\n",
       "       'Nazi Germany'], dtype=object)"
      ]
     },
     "execution_count": 159,
     "metadata": {},
     "output_type": "execute_result"
    }
   ],
   "source": [
    "add_NOC_medalist = pd.merge(temp1, add_country_medalist_cleadned, how = 'right', left_on = 'Team', right_on = 'Host_Country')\n",
    "add_NOC_medalist = add_NOC_medalist.rename(columns = {'NOC_x':'Host_NOC'}).drop(columns = ['Team_x'])\n",
    "add_NOC_medalist = add_NOC_medalist.rename(columns = {'Team_y':'Team','NOC_y':'Athlete_NOC' })\n",
    "add_NOC_medalist[add_NOC_medalist['Host_NOC'].isna()].Host_Country.unique()"
   ]
  },
  {
   "cell_type": "code",
   "execution_count": 160,
   "metadata": {},
   "outputs": [
    {
     "data": {
      "text/html": [
       "<div>\n",
       "<style scoped>\n",
       "    .dataframe tbody tr th:only-of-type {\n",
       "        vertical-align: middle;\n",
       "    }\n",
       "\n",
       "    .dataframe tbody tr th {\n",
       "        vertical-align: top;\n",
       "    }\n",
       "\n",
       "    .dataframe thead th {\n",
       "        text-align: right;\n",
       "    }\n",
       "</style>\n",
       "<table border=\"1\" class=\"dataframe\">\n",
       "  <thead>\n",
       "    <tr style=\"text-align: right;\">\n",
       "      <th></th>\n",
       "      <th>Host_NOC</th>\n",
       "      <th>Name</th>\n",
       "      <th>Sex</th>\n",
       "      <th>Age</th>\n",
       "      <th>Height</th>\n",
       "      <th>Weight</th>\n",
       "      <th>Team</th>\n",
       "      <th>Athlete_NOC</th>\n",
       "      <th>Games</th>\n",
       "      <th>Year</th>\n",
       "      <th>Season</th>\n",
       "      <th>Host_City</th>\n",
       "      <th>Sport</th>\n",
       "      <th>Event</th>\n",
       "      <th>Medal</th>\n",
       "      <th>Host_Country</th>\n",
       "    </tr>\n",
       "  </thead>\n",
       "  <tbody>\n",
       "    <tr>\n",
       "      <th>0</th>\n",
       "      <td>FIN</td>\n",
       "      <td>Charles \"Chuck\" Adkins</td>\n",
       "      <td>M</td>\n",
       "      <td>20.0</td>\n",
       "      <td>NaN</td>\n",
       "      <td>NaN</td>\n",
       "      <td>United States</td>\n",
       "      <td>USA</td>\n",
       "      <td>1952 Summer</td>\n",
       "      <td>1952</td>\n",
       "      <td>Summer</td>\n",
       "      <td>Helsinki</td>\n",
       "      <td>Boxing</td>\n",
       "      <td>Boxing Men's Light-Welterweight</td>\n",
       "      <td>Gold</td>\n",
       "      <td>Finland</td>\n",
       "    </tr>\n",
       "    <tr>\n",
       "      <th>1</th>\n",
       "      <td>FIN</td>\n",
       "      <td>Olle Henrik Martin Anderberg</td>\n",
       "      <td>M</td>\n",
       "      <td>32.0</td>\n",
       "      <td>NaN</td>\n",
       "      <td>NaN</td>\n",
       "      <td>Sweden</td>\n",
       "      <td>SWE</td>\n",
       "      <td>1952 Summer</td>\n",
       "      <td>1952</td>\n",
       "      <td>Summer</td>\n",
       "      <td>Helsinki</td>\n",
       "      <td>Wrestling</td>\n",
       "      <td>Wrestling Men's Lightweight, Freestyle</td>\n",
       "      <td>Gold</td>\n",
       "      <td>Finland</td>\n",
       "    </tr>\n",
       "    <tr>\n",
       "      <th>2</th>\n",
       "      <td>FIN</td>\n",
       "      <td>Horace Ashenfelter, III</td>\n",
       "      <td>M</td>\n",
       "      <td>29.0</td>\n",
       "      <td>178.0</td>\n",
       "      <td>66.0</td>\n",
       "      <td>United States</td>\n",
       "      <td>USA</td>\n",
       "      <td>1952 Summer</td>\n",
       "      <td>1952</td>\n",
       "      <td>Summer</td>\n",
       "      <td>Helsinki</td>\n",
       "      <td>Athletics</td>\n",
       "      <td>Athletics Men's 3,000 metres Steeplechase</td>\n",
       "      <td>Gold</td>\n",
       "      <td>Finland</td>\n",
       "    </tr>\n",
       "  </tbody>\n",
       "</table>\n",
       "</div>"
      ],
      "text/plain": [
       "  Host_NOC                          Name Sex   Age Height Weight  \\\n",
       "0      FIN        Charles \"Chuck\" Adkins   M  20.0    NaN    NaN   \n",
       "1      FIN  Olle Henrik Martin Anderberg   M  32.0    NaN    NaN   \n",
       "2      FIN       Horace Ashenfelter, III   M  29.0  178.0   66.0   \n",
       "\n",
       "            Team Athlete_NOC        Games  Year  Season Host_City      Sport  \\\n",
       "0  United States         USA  1952 Summer  1952  Summer  Helsinki     Boxing   \n",
       "1         Sweden         SWE  1952 Summer  1952  Summer  Helsinki  Wrestling   \n",
       "2  United States         USA  1952 Summer  1952  Summer  Helsinki  Athletics   \n",
       "\n",
       "                                       Event Medal Host_Country  \n",
       "0            Boxing Men's Light-Welterweight  Gold      Finland  \n",
       "1     Wrestling Men's Lightweight, Freestyle  Gold      Finland  \n",
       "2  Athletics Men's 3,000 metres Steeplechase  Gold      Finland  "
      ]
     },
     "execution_count": 160,
     "metadata": {},
     "output_type": "execute_result"
    }
   ],
   "source": [
    "add_NOC_medalist.head(3)"
   ]
  },
  {
   "cell_type": "code",
   "execution_count": 161,
   "metadata": {},
   "outputs": [],
   "source": [
    "add_NOC_medalist.loc[add_NOC_medalist.Host_Country == \"Greece\", \"Host_NOC\"] =  'GRE'\n",
    "add_NOC_medalist.loc[add_NOC_medalist.Host_Country == \"United Kingdom\", \"Host_NOC\"] =  'GBR'\n",
    "add_NOC_medalist.loc[add_NOC_medalist.Host_Country == \"Australia\\xa0Sweden\", \"Host_NOC\"] =  'AUS'\n",
    "add_NOC_medalist.loc[add_NOC_medalist.Host_Country == \"Switzerland\", \"Host_NOC\"] =  'SUI'\n",
    "add_NOC_medalist.loc[add_NOC_medalist.Host_Country == \"Nazi Germany\", \"Host_NOC\"] =  'GER'\n",
    "\n",
    "\n"
   ]
  },
  {
   "cell_type": "code",
   "execution_count": 178,
   "metadata": {},
   "outputs": [
    {
     "data": {
      "text/html": [
       "<div>\n",
       "<style scoped>\n",
       "    .dataframe tbody tr th:only-of-type {\n",
       "        vertical-align: middle;\n",
       "    }\n",
       "\n",
       "    .dataframe tbody tr th {\n",
       "        vertical-align: top;\n",
       "    }\n",
       "\n",
       "    .dataframe thead th {\n",
       "        text-align: right;\n",
       "    }\n",
       "</style>\n",
       "<table border=\"1\" class=\"dataframe\">\n",
       "  <thead>\n",
       "    <tr style=\"text-align: right;\">\n",
       "      <th></th>\n",
       "      <th>Host_NOC</th>\n",
       "      <th>Name</th>\n",
       "      <th>Sex</th>\n",
       "      <th>Age</th>\n",
       "      <th>Height</th>\n",
       "      <th>Weight</th>\n",
       "      <th>Team</th>\n",
       "      <th>Athlete_NOC</th>\n",
       "      <th>Games</th>\n",
       "      <th>Year</th>\n",
       "      <th>Season</th>\n",
       "      <th>Host_City</th>\n",
       "      <th>Sport</th>\n",
       "      <th>Event</th>\n",
       "      <th>Medal</th>\n",
       "      <th>Host_Country</th>\n",
       "    </tr>\n",
       "  </thead>\n",
       "  <tbody>\n",
       "    <tr>\n",
       "      <th>0</th>\n",
       "      <td>FIN</td>\n",
       "      <td>Charles \"Chuck\" Adkins</td>\n",
       "      <td>M</td>\n",
       "      <td>20.0</td>\n",
       "      <td>NaN</td>\n",
       "      <td>NaN</td>\n",
       "      <td>United States</td>\n",
       "      <td>USA</td>\n",
       "      <td>1952 Summer</td>\n",
       "      <td>1952</td>\n",
       "      <td>Summer</td>\n",
       "      <td>Helsinki</td>\n",
       "      <td>Boxing</td>\n",
       "      <td>Boxing Men's Light-Welterweight</td>\n",
       "      <td>Gold</td>\n",
       "      <td>Finland</td>\n",
       "    </tr>\n",
       "    <tr>\n",
       "      <th>1</th>\n",
       "      <td>FIN</td>\n",
       "      <td>Olle Henrik Martin Anderberg</td>\n",
       "      <td>M</td>\n",
       "      <td>32.0</td>\n",
       "      <td>NaN</td>\n",
       "      <td>NaN</td>\n",
       "      <td>Sweden</td>\n",
       "      <td>SWE</td>\n",
       "      <td>1952 Summer</td>\n",
       "      <td>1952</td>\n",
       "      <td>Summer</td>\n",
       "      <td>Helsinki</td>\n",
       "      <td>Wrestling</td>\n",
       "      <td>Wrestling Men's Lightweight, Freestyle</td>\n",
       "      <td>Gold</td>\n",
       "      <td>Finland</td>\n",
       "    </tr>\n",
       "    <tr>\n",
       "      <th>2</th>\n",
       "      <td>FIN</td>\n",
       "      <td>Horace Ashenfelter, III</td>\n",
       "      <td>M</td>\n",
       "      <td>29.0</td>\n",
       "      <td>178.0</td>\n",
       "      <td>66.0</td>\n",
       "      <td>United States</td>\n",
       "      <td>USA</td>\n",
       "      <td>1952 Summer</td>\n",
       "      <td>1952</td>\n",
       "      <td>Summer</td>\n",
       "      <td>Helsinki</td>\n",
       "      <td>Athletics</td>\n",
       "      <td>Athletics Men's 3,000 metres Steeplechase</td>\n",
       "      <td>Gold</td>\n",
       "      <td>Finland</td>\n",
       "    </tr>\n",
       "    <tr>\n",
       "      <th>3</th>\n",
       "      <td>FIN</td>\n",
       "      <td>Josef Henri \"Josy\" Barthel</td>\n",
       "      <td>M</td>\n",
       "      <td>25.0</td>\n",
       "      <td>173.0</td>\n",
       "      <td>68.0</td>\n",
       "      <td>Luxembourg</td>\n",
       "      <td>LUX</td>\n",
       "      <td>1952 Summer</td>\n",
       "      <td>1952</td>\n",
       "      <td>Summer</td>\n",
       "      <td>Helsinki</td>\n",
       "      <td>Athletics</td>\n",
       "      <td>Athletics Men's 1,500 metres</td>\n",
       "      <td>Gold</td>\n",
       "      <td>Finland</td>\n",
       "    </tr>\n",
       "    <tr>\n",
       "      <th>4</th>\n",
       "      <td>FIN</td>\n",
       "      <td>Huelet Leo \"Joe\" Benner</td>\n",
       "      <td>M</td>\n",
       "      <td>34.0</td>\n",
       "      <td>178.0</td>\n",
       "      <td>100.0</td>\n",
       "      <td>United States</td>\n",
       "      <td>USA</td>\n",
       "      <td>1952 Summer</td>\n",
       "      <td>1952</td>\n",
       "      <td>Summer</td>\n",
       "      <td>Helsinki</td>\n",
       "      <td>Shooting</td>\n",
       "      <td>Shooting Men's Free Pistol, 50 metres</td>\n",
       "      <td>Gold</td>\n",
       "      <td>Finland</td>\n",
       "    </tr>\n",
       "  </tbody>\n",
       "</table>\n",
       "</div>"
      ],
      "text/plain": [
       "  Host_NOC                          Name Sex   Age Height Weight  \\\n",
       "0      FIN        Charles \"Chuck\" Adkins   M  20.0    NaN    NaN   \n",
       "1      FIN  Olle Henrik Martin Anderberg   M  32.0    NaN    NaN   \n",
       "2      FIN       Horace Ashenfelter, III   M  29.0  178.0   66.0   \n",
       "3      FIN    Josef Henri \"Josy\" Barthel   M  25.0  173.0   68.0   \n",
       "4      FIN       Huelet Leo \"Joe\" Benner   M  34.0  178.0  100.0   \n",
       "\n",
       "            Team Athlete_NOC        Games  Year  Season Host_City      Sport  \\\n",
       "0  United States         USA  1952 Summer  1952  Summer  Helsinki     Boxing   \n",
       "1         Sweden         SWE  1952 Summer  1952  Summer  Helsinki  Wrestling   \n",
       "2  United States         USA  1952 Summer  1952  Summer  Helsinki  Athletics   \n",
       "3     Luxembourg         LUX  1952 Summer  1952  Summer  Helsinki  Athletics   \n",
       "4  United States         USA  1952 Summer  1952  Summer  Helsinki   Shooting   \n",
       "\n",
       "                                       Event Medal Host_Country  \n",
       "0            Boxing Men's Light-Welterweight  Gold      Finland  \n",
       "1     Wrestling Men's Lightweight, Freestyle  Gold      Finland  \n",
       "2  Athletics Men's 3,000 metres Steeplechase  Gold      Finland  \n",
       "3               Athletics Men's 1,500 metres  Gold      Finland  \n",
       "4      Shooting Men's Free Pistol, 50 metres  Gold      Finland  "
      ]
     },
     "execution_count": 178,
     "metadata": {},
     "output_type": "execute_result"
    }
   ],
   "source": [
    "newdf = add_NOC_medalist\n",
    "newdf.head()"
   ]
  },
  {
   "cell_type": "code",
   "execution_count": 179,
   "metadata": {},
   "outputs": [],
   "source": [
    "newdf['Flag'] = 0"
   ]
  },
  {
   "cell_type": "code",
   "execution_count": 180,
   "metadata": {},
   "outputs": [],
   "source": [
    "newdf.loc[newdf['Host_NOC'] == newdf['Athlete_NOC'], 'Flag'] = 1"
   ]
  },
  {
   "cell_type": "code",
   "execution_count": 189,
   "metadata": {},
   "outputs": [
    {
     "data": {
      "text/plain": [
       "Year  Host_Country      Season\n",
       "1896  Greece            Summer    0.318182\n",
       "1900  France            Summer    0.300000\n",
       "1904  United States     Summer    0.448276\n",
       "1906  Greece            Summer    0.133333\n",
       "1908  United Kingdom    Summer    0.578947\n",
       "1912  Sweden            Summer    0.261905\n",
       "1920  Belgium           Summer    0.263158\n",
       "1924  France            Summer    0.064516\n",
       "                        Winter    0.000000\n",
       "1928  Netherlands       Summer    0.114286\n",
       "      Switzerland       Winter    0.000000\n",
       "1932  United States     Summer    0.352941\n",
       "1936  Germany           Summer    0.309524\n",
       "      Nazi Germany      Winter    0.666667\n",
       "1948  Switzerland       Winter    0.000000\n",
       "      United Kingdom    Summer    0.017857\n",
       "1952  Finland           Summer    0.076923\n",
       "      Norway            Winter    0.500000\n",
       "1956  Australia Sweden  Summer    0.076923\n",
       "      Italy             Winter    0.000000\n",
       "      Sweden            Summer    1.000000\n",
       "1960  Italy             Summer    0.160000\n",
       "      United States     Winter    0.000000\n",
       "1964  Austria           Winter    0.111111\n",
       "      Japan             Summer    0.103448\n",
       "1968  France            Winter    0.000000\n",
       "      Mexico            Summer    0.027778\n",
       "1972  Japan             Winter    0.000000\n",
       "      West Germany      Summer    0.142857\n",
       "1976  Austria           Winter    0.000000\n",
       "      Canada            Summer    0.000000\n",
       "1980  Soviet Union      Summer    0.303030\n",
       "      United States     Winter    0.000000\n",
       "1984  United States     Summer    0.225000\n",
       "      Yugoslavia        Winter    0.000000\n",
       "1988  Canada            Winter    0.000000\n",
       "      South Korea       Summer    0.028986\n",
       "1992  France            Winter    0.066667\n",
       "      Spain             Summer    0.067797\n",
       "1994  Norway            Winter    0.066667\n",
       "1996  United States     Summer    0.063830\n",
       "1998  Japan             Winter    0.190476\n",
       "2000  Australia         Summer    0.039604\n",
       "2002  United States     Winter    0.090909\n",
       "2004  Greece            Summer    0.052632\n",
       "2006  Italy             Winter    0.062500\n",
       "2008  China             Summer    0.172727\n",
       "2010  Canada            Winter    0.160000\n",
       "2012  United Kingdom    Summer    0.130841\n",
       "2014  Russia            Winter    0.170732\n",
       "2016  Brazil            Summer    0.027273\n",
       "Name: Flag, dtype: float64"
      ]
     },
     "execution_count": 189,
     "metadata": {},
     "output_type": "execute_result"
    }
   ],
   "source": [
    "newdf.groupby(['Year','Host_Country' , 'Season'])['Flag'].sum() / newdf.groupby(['Year','Host_Country' , 'Season'])['Flag'].size()"
   ]
  },
  {
   "cell_type": "markdown",
   "metadata": {
    "colab_type": "text",
    "id": "R9dYAutxubGJ"
   },
   "source": [
    "- As the result shown above, the first column represents the year, and the second column represents the host Country. Classified by seasons, the final column is repersented for propotions."
   ]
  }
 ],
 "metadata": {
  "colab": {
   "collapsed_sections": [],
   "name": "SI 618 FA 2018 Homework 1.ipynb",
   "provenance": [],
   "version": "0.3.2"
  },
  "kernelspec": {
   "display_name": "Python 3",
   "language": "python",
   "name": "python3"
  },
  "language_info": {
   "codemirror_mode": {
    "name": "ipython",
    "version": 3
   },
   "file_extension": ".py",
   "mimetype": "text/x-python",
   "name": "python",
   "nbconvert_exporter": "python",
   "pygments_lexer": "ipython3",
   "version": "3.7.1"
  }
 },
 "nbformat": 4,
 "nbformat_minor": 2
}
